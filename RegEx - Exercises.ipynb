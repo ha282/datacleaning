{
 "cells": [
  {
   "cell_type": "markdown",
   "id": "individual-algeria",
   "metadata": {},
   "source": [
    "<p style=\"text-align:center;\">\n",
    "<img src=\"https://github.com/digital-futures-academy/DataScienceMasterResources/blob/main/Resources/datascience-notebook-header.png?raw=true\"\n",
    "     alt=\"DigitalFuturesLogo\"\n",
    "     style=\"float: center; margin-right: 10px;\" />\n",
    "</p>\n",
    "\n",
    "# RegEx - Exercises\n",
    "\n",
    "### Learning Objectives\n",
    "\n",
    "*  Using RegEx in Python for pattern matching"
   ]
  },
  {
   "cell_type": "code",
   "execution_count": 1,
   "id": "induced-james",
   "metadata": {},
   "outputs": [],
   "source": [
    "import re"
   ]
  },
  {
   "cell_type": "markdown",
   "id": "0a481868-9d71-4a1a-b9e1-87ba49a975cd",
   "metadata": {},
   "source": [
    "**Note:** Do not edit the cell below. Run as it is."
   ]
  },
  {
   "cell_type": "code",
   "execution_count": 2,
   "id": "phantom-missouri",
   "metadata": {},
   "outputs": [],
   "source": [
    "## DO NOT EDIT\n",
    "\n",
    "def check_pattern(regex, test_strings, correct_matches):\n",
    "    print(f'Correct matches: {correct_matches}')\n",
    "    matches = []\n",
    "    for string in test_strings:\n",
    "        matches += re.findall(regex, string)\n",
    "    print(f'Your matches: {matches}')\n",
    "    if matches == correct_matches:\n",
    "        print(\"\\nSuccess!\")\n",
    "    else:\n",
    "        print(\"\\nIncorrect. Please try again.\")"
   ]
  },
  {
   "cell_type": "markdown",
   "id": "choice-revelation",
   "metadata": {},
   "source": [
    "### Example Question"
   ]
  },
  {
   "cell_type": "code",
   "execution_count": 3,
   "id": "rubber-parliament",
   "metadata": {},
   "outputs": [
    {
     "name": "stdout",
     "output_type": "stream",
     "text": [
      "Correct matches: ['cat']\n",
      "Your matches: ['cat']\n",
      "\n",
      "Success!\n"
     ]
    }
   ],
   "source": [
    "TEST_STRINGS = [\n",
    "    'The cat sat on the mat'\n",
    "]\n",
    "CORRECT_MATCHES = ['cat']\n",
    "\n",
    "\n",
    "my_regex = 'cat'\n",
    "\n",
    "check_pattern(my_regex, TEST_STRINGS, CORRECT_MATCHES)"
   ]
  },
  {
   "cell_type": "markdown",
   "id": "ff3c132b-8ca1-4cff-8f87-a48fba7be388",
   "metadata": {},
   "source": [
    "# Exercises\n",
    "\n",
    "Find a set of RegEx exercises below. You'll be asked to edit the `my_regex` variable in order to match the set of `CORRECT_MATCHES`. See the example above first. Good luck!"
   ]
  },
  {
   "cell_type": "markdown",
   "id": "synthetic-python",
   "metadata": {},
   "source": [
    "## 1. Anchors\n",
    "<hr>"
   ]
  },
  {
   "cell_type": "markdown",
   "id": "oriented-amateur",
   "metadata": {},
   "source": [
    "### Q1.1)  ^"
   ]
  },
  {
   "cell_type": "code",
   "execution_count": 6,
   "id": "centered-sphere",
   "metadata": {},
   "outputs": [
    {
     "name": "stdout",
     "output_type": "stream",
     "text": [
      "Correct matches: ['yes ok']\n",
      "Your matches: ['yes ok']\n",
      "\n",
      "Success!\n"
     ]
    }
   ],
   "source": [
    "TEST_STRINGS = [\n",
    "    'yes ok',\n",
    "    'oh right yes ok'\n",
    "]\n",
    "CORRECT_MATCHES = ['yes ok']\n",
    "\n",
    "\n",
    "## Edit this regex\n",
    "my_regex = '^yes ok'\n",
    "\n",
    "check_pattern(my_regex, TEST_STRINGS, CORRECT_MATCHES)"
   ]
  },
  {
   "cell_type": "markdown",
   "id": "undefined-threshold",
   "metadata": {},
   "source": [
    "### Q1.2) $"
   ]
  },
  {
   "cell_type": "code",
   "execution_count": 7,
   "id": "colonial-elevation",
   "metadata": {},
   "outputs": [
    {
     "name": "stdout",
     "output_type": "stream",
     "text": [
      "Correct matches: ['I said no']\n",
      "Your matches: ['I said no']\n",
      "\n",
      "Success!\n"
     ]
    }
   ],
   "source": [
    "TEST_STRINGS = [\n",
    "    'I said no thank you',\n",
    "    'I said no'\n",
    "]\n",
    "CORRECT_MATCHES = ['I said no']\n",
    "\n",
    "\n",
    "## Edit this regex\n",
    "my_regex = 'I said no$'\n",
    "\n",
    "check_pattern(my_regex, TEST_STRINGS, CORRECT_MATCHES)"
   ]
  },
  {
   "cell_type": "markdown",
   "id": "metallic-opening",
   "metadata": {},
   "source": [
    "### Q1.3) ^ and $ together\n",
    "Use both anchors to match an exact string, from start to end"
   ]
  },
  {
   "cell_type": "code",
   "execution_count": 8,
   "id": "appointed-single",
   "metadata": {},
   "outputs": [
    {
     "name": "stdout",
     "output_type": "stream",
     "text": [
      "Correct matches: ['the end']\n",
      "Your matches: ['the end']\n",
      "\n",
      "Success!\n"
     ]
    }
   ],
   "source": [
    "TEST_STRINGS = [\n",
    "    'the end',\n",
    "    'maybe the end is tomorrow'\n",
    "]\n",
    "CORRECT_MATCHES = ['the end']\n",
    "\n",
    "\n",
    "## Edit this regex\n",
    "my_regex = '^the end$'\n",
    "\n",
    "check_pattern(my_regex, TEST_STRINGS, CORRECT_MATCHES)"
   ]
  },
  {
   "cell_type": "markdown",
   "id": "municipal-anger",
   "metadata": {},
   "source": [
    "## 2. Quantifiers\n",
    "<hr>"
   ]
  },
  {
   "cell_type": "markdown",
   "id": "greek-limit",
   "metadata": {},
   "source": [
    "### Q2.1) +"
   ]
  },
  {
   "cell_type": "code",
   "execution_count": 9,
   "id": "younger-paradise",
   "metadata": {
    "scrolled": true
   },
   "outputs": [
    {
     "name": "stdout",
     "output_type": "stream",
     "text": [
      "Correct matches: ['abc', 'abbbbbc']\n",
      "Your matches: ['abc', 'abbbbbc']\n",
      "\n",
      "Success!\n"
     ]
    }
   ],
   "source": [
    "TEST_STRINGS = [\n",
    "    'ac',\n",
    "    'abc',\n",
    "    'abbbbbc'\n",
    "]\n",
    "CORRECT_MATCHES = ['abc', 'abbbbbc']\n",
    "\n",
    "\n",
    "## Edit this regex\n",
    "my_regex = 'ab+c'\n",
    "\n",
    "check_pattern(my_regex, TEST_STRINGS, CORRECT_MATCHES)"
   ]
  },
  {
   "cell_type": "markdown",
   "id": "jewish-mainland",
   "metadata": {},
   "source": [
    "### Q2.2) *"
   ]
  },
  {
   "cell_type": "code",
   "execution_count": 11,
   "id": "thorough-circular",
   "metadata": {
    "scrolled": true
   },
   "outputs": [
    {
     "name": "stdout",
     "output_type": "stream",
     "text": [
      "Correct matches: ['abc', 'ac']\n",
      "Your matches: ['abc', 'ac']\n",
      "\n",
      "Success!\n"
     ]
    }
   ],
   "source": [
    "TEST_STRINGS = [\n",
    "    'ab',\n",
    "    'abc',\n",
    "    'ac'\n",
    "]\n",
    "CORRECT_MATCHES = ['abc', 'ac']\n",
    "\n",
    "\n",
    "## Edit this regex\n",
    "my_regex = 'ab*c'\n",
    "\n",
    "check_pattern(my_regex, TEST_STRINGS, CORRECT_MATCHES)"
   ]
  },
  {
   "cell_type": "markdown",
   "id": "covered-latest",
   "metadata": {},
   "source": [
    "### Q2.3) ?"
   ]
  },
  {
   "cell_type": "code",
   "execution_count": 17,
   "id": "better-tours",
   "metadata": {
    "scrolled": true
   },
   "outputs": [
    {
     "name": "stdout",
     "output_type": "stream",
     "text": [
      "Correct matches: ['abbc', 'abc']\n",
      "Your matches: ['abbc', 'abc']\n",
      "\n",
      "Success!\n"
     ]
    }
   ],
   "source": [
    "TEST_STRINGS = [\n",
    "    'abbbc',\n",
    "    'abbc',\n",
    "    'abc'\n",
    "]\n",
    "CORRECT_MATCHES = ['abbc', 'abc']\n",
    "\n",
    "\n",
    "## Edit this regex\n",
    "my_regex = 'abb?c'\n",
    "\n",
    "check_pattern(my_regex, TEST_STRINGS, CORRECT_MATCHES)"
   ]
  },
  {
   "cell_type": "markdown",
   "id": "taken-disability",
   "metadata": {},
   "source": [
    "### Q2.4) {n}"
   ]
  },
  {
   "cell_type": "code",
   "execution_count": 18,
   "id": "consistent-tutorial",
   "metadata": {
    "scrolled": true
   },
   "outputs": [
    {
     "name": "stdout",
     "output_type": "stream",
     "text": [
      "Correct matches: ['abbbc']\n",
      "Your matches: ['abbbc']\n",
      "\n",
      "Success!\n"
     ]
    }
   ],
   "source": [
    "TEST_STRINGS = [\n",
    "    'abbc',\n",
    "    'abbbc',\n",
    "    'abc',\n",
    "    'abbbbc'\n",
    "]\n",
    "CORRECT_MATCHES = ['abbbc']\n",
    "\n",
    "\n",
    "## Edit this regex\n",
    "my_regex = 'ab{3}c'\n",
    "\n",
    "check_pattern(my_regex, TEST_STRINGS, CORRECT_MATCHES)"
   ]
  },
  {
   "cell_type": "markdown",
   "id": "modified-watch",
   "metadata": {},
   "source": [
    "### Q2.5) {n, m}"
   ]
  },
  {
   "cell_type": "code",
   "execution_count": 21,
   "id": "complicated-indonesian",
   "metadata": {
    "scrolled": true
   },
   "outputs": [
    {
     "name": "stdout",
     "output_type": "stream",
     "text": [
      "Correct matches: ['abbc', 'abbbc', 'abbbbc']\n",
      "Your matches: ['abbc', 'abbbc', 'abbbbc']\n",
      "\n",
      "Success!\n"
     ]
    }
   ],
   "source": [
    "TEST_STRINGS = [\n",
    "    'abbc',\n",
    "    'abbbc',\n",
    "    'abc',\n",
    "    'abbbbc'\n",
    "]\n",
    "CORRECT_MATCHES = ['abbc', 'abbbc', 'abbbbc']\n",
    "\n",
    "\n",
    "## Edit this regex\n",
    "my_regex = 'ab{2,4}c'\n",
    "\n",
    "check_pattern(my_regex, TEST_STRINGS, CORRECT_MATCHES)"
   ]
  },
  {
   "cell_type": "markdown",
   "id": "psychological-version",
   "metadata": {},
   "source": [
    "### Q2.6) {n, }"
   ]
  },
  {
   "cell_type": "code",
   "execution_count": 23,
   "id": "broadband-footage",
   "metadata": {
    "scrolled": true
   },
   "outputs": [
    {
     "name": "stdout",
     "output_type": "stream",
     "text": [
      "Correct matches: ['abbbc', 'abbbbbbc']\n",
      "Your matches: ['abbbc', 'abbbbbbc']\n",
      "\n",
      "Success!\n"
     ]
    }
   ],
   "source": [
    "TEST_STRINGS = [\n",
    "    'abbc',\n",
    "    'abbbc',\n",
    "    'abc',\n",
    "    'abbbbbbc'\n",
    "]\n",
    "CORRECT_MATCHES = ['abbbc', 'abbbbbbc']\n",
    "\n",
    "\n",
    "## Edit this regex\n",
    "my_regex = 'ab{3,}c'\n",
    "\n",
    "check_pattern(my_regex, TEST_STRINGS, CORRECT_MATCHES)"
   ]
  },
  {
   "cell_type": "markdown",
   "id": "devoted-louis",
   "metadata": {},
   "source": [
    "## 3. Square bracket expressions\n",
    "<hr>"
   ]
  },
  {
   "cell_type": "markdown",
   "id": "structured-instrument",
   "metadata": {},
   "source": [
    "### Q3.1) Using just characters e.g. [abc]"
   ]
  },
  {
   "cell_type": "code",
   "execution_count": 24,
   "id": "imposed-prescription",
   "metadata": {
    "scrolled": true
   },
   "outputs": [
    {
     "name": "stdout",
     "output_type": "stream",
     "text": [
      "Correct matches: ['Hello', 'hello']\n",
      "Your matches: ['Hello', 'hello']\n",
      "\n",
      "Success!\n"
     ]
    }
   ],
   "source": [
    "TEST_STRINGS = [\n",
    "    'Hello',\n",
    "    'hello',\n",
    "    'ello'\n",
    "]\n",
    "CORRECT_MATCHES = ['Hello', 'hello']\n",
    "\n",
    "\n",
    "## Edit this regex\n",
    "my_regex = '[H,h]ello'\n",
    "\n",
    "check_pattern(my_regex, TEST_STRINGS, CORRECT_MATCHES)"
   ]
  },
  {
   "cell_type": "markdown",
   "id": "christian-satellite",
   "metadata": {},
   "source": [
    "### Q3.2) Using character ranges e.g. [a-f]"
   ]
  },
  {
   "cell_type": "code",
   "execution_count": null,
   "id": "smart-collector",
   "metadata": {},
   "outputs": [
    {
     "name": "stdout",
     "output_type": "stream",
     "text": [
      "Correct matches: ['Ape', 'Pot', 'Old', 'Zed']\n",
      "Your matches: ['Ape', 'Pot', 'Old', 'Zed']\n",
      "\n",
      "Success!\n"
     ]
    }
   ],
   "source": [
    "TEST_STRINGS = [\n",
    "    'Ape',\n",
    "    'Pot',\n",
    "    'Old',\n",
    "    'Zed'\n",
    "]\n",
    "CORRECT_MATCHES = ['Ape', 'Pot', 'Old', 'Zed']\n",
    "\n",
    "\n",
    "## Edit this regex\n",
    "my_regex = '[A-Za-z][A-Za-z][A-Za-z]'\n",
    "\n",
    "check_pattern(my_regex, TEST_STRINGS, CORRECT_MATCHES)"
   ]
  },
  {
   "cell_type": "markdown",
   "id": "assumed-delhi",
   "metadata": {},
   "source": [
    "### Q3.3) Using circumflexes e.g. [^0-3]"
   ]
  },
  {
   "cell_type": "code",
   "execution_count": 30,
   "id": "artificial-general",
   "metadata": {},
   "outputs": [
    {
     "name": "stdout",
     "output_type": "stream",
     "text": [
      "Correct matches: ['? potato']\n",
      "Your matches: ['? potato']\n",
      "\n",
      "Success!\n"
     ]
    }
   ],
   "source": [
    "TEST_STRINGS = [\n",
    "    'A potato',\n",
    "    '2 potato',\n",
    "    '9 potato',\n",
    "    '? potato'\n",
    "]\n",
    "CORRECT_MATCHES = ['? potato']\n",
    "\n",
    "\n",
    "## Edit this regex\n",
    "my_regex = '[^A-Za-z0-9] potato'\n",
    "\n",
    "check_pattern(my_regex, TEST_STRINGS, CORRECT_MATCHES)"
   ]
  },
  {
   "cell_type": "markdown",
   "id": "crude-lesbian",
   "metadata": {},
   "source": [
    "## 4. Character classes and escaping characters\n",
    "<hr>"
   ]
  },
  {
   "cell_type": "markdown",
   "id": "improved-vegetation",
   "metadata": {},
   "source": [
    "### Q4.1) "
   ]
  },
  {
   "cell_type": "code",
   "execution_count": 39,
   "id": "robust-yeast",
   "metadata": {
    "scrolled": true
   },
   "outputs": [
    {
     "name": "stdout",
     "output_type": "stream",
     "text": [
      "Correct matches: ['Foo-Bar', 'Good-day']\n",
      "Your matches: ['Foo-Bar', 'Good-day']\n",
      "\n",
      "Success!\n"
     ]
    }
   ],
   "source": [
    "TEST_STRINGS = [\n",
    "    'Foo-Bar',\n",
    "    'Foo.Bar',\n",
    "    'Good-day'\n",
    "]\n",
    "CORRECT_MATCHES = ['Foo-Bar', 'Good-day']\n",
    "\n",
    "\n",
    "## Edit this regex\n",
    "my_regex = r'[A-Za-z]{3,}-[A-Za-z][A-Za-z][A-Za-z]'\n",
    "\n",
    "check_pattern(my_regex, TEST_STRINGS, CORRECT_MATCHES)"
   ]
  },
  {
   "cell_type": "markdown",
   "id": "material-wagon",
   "metadata": {},
   "source": [
    "### Q4.2) "
   ]
  },
  {
   "cell_type": "code",
   "execution_count": 41,
   "id": "worse-blame",
   "metadata": {},
   "outputs": [
    {
     "name": "stdout",
     "output_type": "stream",
     "text": [
      "Correct matches: ['24.5', '343.24', '4.878']\n",
      "Your matches: ['24.5', '343.24', '4.878']\n",
      "\n",
      "Success!\n"
     ]
    }
   ],
   "source": [
    "TEST_STRINGS = [\n",
    "    '24.5',\n",
    "    '56',\n",
    "    '343.24',\n",
    "    '4.878'\n",
    "]\n",
    "CORRECT_MATCHES = ['24.5', '343.24', '4.878']\n",
    "\n",
    "\n",
    "## Edit this regex\n",
    "my_regex = '[0-9]{1,}.[0-9]{1,}'\n",
    "\n",
    "check_pattern(my_regex, TEST_STRINGS, CORRECT_MATCHES)"
   ]
  },
  {
   "cell_type": "markdown",
   "id": "progressive-sydney",
   "metadata": {},
   "source": [
    "### Q4.3) "
   ]
  },
  {
   "cell_type": "code",
   "execution_count": 44,
   "id": "anonymous-tension",
   "metadata": {},
   "outputs": [
    {
     "name": "stdout",
     "output_type": "stream",
     "text": [
      "Correct matches: ['Welcome back', 'Welcome         back']\n",
      "Your matches: ['Welcome back', 'Welcome         back']\n",
      "\n",
      "Success!\n"
     ]
    }
   ],
   "source": [
    "TEST_STRINGS = [\n",
    "    'Welcome back',\n",
    "    'Welcomeback',\n",
    "    'Welcome         back'\n",
    "]\n",
    "CORRECT_MATCHES = ['Welcome back', 'Welcome         back']\n",
    "\n",
    "\n",
    "## Edit this regex\n",
    "my_regex = r'[A-Za-z]{7}\\s+[A-Za-z]{4}'\n",
    "\n",
    "check_pattern(my_regex, TEST_STRINGS, CORRECT_MATCHES)"
   ]
  }
 ],
 "metadata": {
  "kernelspec": {
   "display_name": ".venv",
   "language": "python",
   "name": "python3"
  },
  "language_info": {
   "codemirror_mode": {
    "name": "ipython",
    "version": 3
   },
   "file_extension": ".py",
   "mimetype": "text/x-python",
   "name": "python",
   "nbconvert_exporter": "python",
   "pygments_lexer": "ipython3",
   "version": "3.12.6"
  }
 },
 "nbformat": 4,
 "nbformat_minor": 5
}
